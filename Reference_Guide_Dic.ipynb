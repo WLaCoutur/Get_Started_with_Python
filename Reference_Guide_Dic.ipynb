{
 "cells": [
  {
   "metadata": {},
   "cell_type": "markdown",
   "source": "### Reference guide: Dictionaries",
   "id": "a1ca84191f50677d"
  },
  {
   "metadata": {},
   "cell_type": "markdown",
   "source": "By now you’ve encountered dictionaries and are discovering their power and utility as a data structure in Python. You’ve also learned that dictionaries provide a way to store and retrieve data using key-value pairs. Data professionals use dictionaries for many tasks, so it’s important to be familiar with how they work. This reading is a reference guide about dictionaries. It’s designed to help you in your Python learning journey. Create a dictionary There are two main ways to create dictionaries in Python: Braces: {} The dict function: dict() When instantiating a list using braces, separate each element with a colon. For example, the following code creates a dictionary containing continents as keys and their smallest countries as values:",
   "id": "4adaa5cd13839ec9"
  },
  {
   "metadata": {
    "ExecuteTime": {
     "end_time": "2025-07-15T13:03:33.300976Z",
     "start_time": "2025-07-15T13:03:33.298646Z"
    }
   },
   "cell_type": "code",
   "source": [
    "smallest_countries = {'Africa': 'Seychelles',\n",
    "                     'Asia': 'Maldives',\n",
    "                     'Europe': 'Vatican City',\n",
    "                     'Oceania': 'Nauru',\n",
    "                     'North America': 'St. Kitts and Nevis',\n",
    "                     'South America': 'Suriname'\n",
    "                     }"
   ],
   "id": "b916b434df5a141",
   "outputs": [],
   "execution_count": 1
  },
  {
   "metadata": {},
   "cell_type": "markdown",
   "source": "To create an empty dictionary, use empty braces or the dict() function:",
   "id": "379122634df8f6d3"
  },
  {
   "metadata": {
    "ExecuteTime": {
     "end_time": "2025-07-15T13:04:57.399943Z",
     "start_time": "2025-07-15T13:04:57.396710Z"
    }
   },
   "cell_type": "code",
   "source": [
    "empty_dict_1 = {}\n",
    "empty_dict_2 = dict()"
   ],
   "id": "2601a50c35aa27d2",
   "outputs": [],
   "execution_count": 2
  },
  {
   "metadata": {},
   "cell_type": "markdown",
   "source": "The dict() function uses a different syntax, where keys are entered as the function’s keyword arguments and values are assigned with an equals operator:",
   "id": "6412fdb79816b2da"
  },
  {
   "metadata": {
    "ExecuteTime": {
     "end_time": "2025-07-15T13:05:39.208087Z",
     "start_time": "2025-07-15T13:05:39.205148Z"
    }
   },
   "cell_type": "code",
   "source": [
    "smallest_countries = dict(africa='Seychelles',\n",
    "                         asia='Maldives',\n",
    "                         europe='Vatican City',\n",
    "                         oceania='Nauru',\n",
    "                         north_america='St. Kitts and Nevis',\n",
    "                         south_america ='Suriname'\n",
    ")"
   ],
   "id": "14dce59daf782870",
   "outputs": [],
   "execution_count": 3
  },
  {
   "metadata": {},
   "cell_type": "markdown",
   "source": [
    "Notice that, because the keywords cannot be entered as strings, they cannot contain whitespaces.\n",
    "\n",
    "Some important notes about keys and values:\n",
    "Dictionary keys: Can be of any immutable data type, such as strings, numbers, or tuples\n",
    "Dictionary values: Can be of any data type—mutable or immutable—including other dictionaries or objects\n",
    "Each key can only correspond to a single value; so, for example, this will throw an error:"
   ],
   "id": "cb2e0b63f1862100"
  },
  {
   "metadata": {},
   "cell_type": "code",
   "outputs": [],
   "execution_count": null,
   "source": "invalid_dict = {'numbers': 1, 2, 3}",
   "id": "da897e2978e1c773"
  },
  {
   "metadata": {},
   "cell_type": "markdown",
   "source": "But if you enclose multiple values within another single data structure, you can create a valid dictionary. For example:",
   "id": "99b48f4e64817a15"
  },
  {
   "metadata": {},
   "cell_type": "code",
   "outputs": [],
   "execution_count": null,
   "source": "valid_dict = {'numbers': [1, 2, 3]}",
   "id": "d59e9e6765cfde53"
  },
  {
   "metadata": {},
   "cell_type": "markdown",
   "source": [
    "Work with dictionaries\n",
    "Access values\n",
    "To access a specific value in a dictionary, you must refer to its key using brackets:"
   ],
   "id": "8ef09fbf76eae65b"
  },
  {
   "metadata": {},
   "cell_type": "code",
   "outputs": [],
   "execution_count": null,
   "source": [
    "my_dict = {'nums': [1, 2, 3],\n",
    "          'abc': ['a', 'b', 'c']\n",
    "          }\n",
    "print(my_dict['abc'])"
   ],
   "id": "aad2c3fb0cf58178"
  },
  {
   "metadata": {},
   "cell_type": "markdown",
   "source": "To access all values in a dictionary, use the values() method:",
   "id": "754f096e8a5acbe5"
  },
  {
   "metadata": {
    "ExecuteTime": {
     "end_time": "2025-07-15T13:08:38.261456Z",
     "start_time": "2025-07-15T13:08:38.258826Z"
    }
   },
   "cell_type": "code",
   "source": [
    "my_dict = {'nums': [1, 2, 3],\n",
    "          'abc': ['a', 'b', 'c']\n",
    "          }\n",
    "print(my_dict.values())"
   ],
   "id": "4af8f8a6fec2e3da",
   "outputs": [
    {
     "name": "stdout",
     "output_type": "stream",
     "text": [
      "dict_values([[1, 2, 3], ['a', 'b', 'c']])\n"
     ]
    }
   ],
   "execution_count": 4
  },
  {
   "metadata": {},
   "cell_type": "markdown",
   "source": "",
   "id": "7425e36f4be3a39a"
  },
  {
   "metadata": {},
   "cell_type": "markdown",
   "source": "",
   "id": "6b51871b99d7abc7"
  },
  {
   "metadata": {},
   "cell_type": "markdown",
   "source": "",
   "id": "88ea016b1ad66bb9"
  },
  {
   "metadata": {},
   "cell_type": "code",
   "outputs": [],
   "execution_count": null,
   "source": "",
   "id": "47be5f6d3cb5fa8b"
  },
  {
   "metadata": {},
   "cell_type": "markdown",
   "source": [
    "\n",
    "Assign new keys\n",
    "Dictionaries are mutable data structures in Python. You can add to and modify existing dictionaries. To add a new key to a dictionary, use brackets:\n",
    "my_dict = {'nums': [1, 2, 3],\n",
    "          'abc': ['a', 'b', 'c']\n",
    "          }\n",
    "\n",
    "\n",
    "# Add a new 'floats' key\n",
    "my_dict['floats'] = [1.0, 2.0, 3.0]\n",
    "print(my_dict)\n",
    "\n",
    "Check if a key exists in a dictionary\n",
    "To check if a key exists in a dictionary, use the in keyword:\n",
    "smallest_countries = {'Africa': 'Seychelles',\n",
    "                     'Asia': 'Maldives',\n",
    "                     'Europe': 'Vatican City',\n",
    "                     'Oceania': 'Nauru',\n",
    "                     'North America': 'St. Kitts and Nevis',\n",
    "                     'South America': 'Suriname'\n",
    "                     }\n",
    "\n",
    "\n",
    "print('Antarctica' in smallest_countries)\n",
    "print('Asia' not in smallest_countries)\n",
    "Delete a key-value pair\n",
    "To delete a key-value pair from a dictionary, use the del keyword:\n",
    "my_dict = {'nums': [1, 2, 3],\n",
    "          'abc': ['a', 'b', 'c']\n",
    "          }\n",
    "del my_dict['abc']\n",
    "print(my_dict)\n",
    "\n",
    "Dictionary methods\n",
    "Dictionaries are a core Python class. As you’ve learned, classes package data with tools to work with it. Methods are functions that belong to a class. Dictionaries have a number of built-in methods that are very useful. Some of the most commonly used methods include:\n",
    "items()\n",
    "Return a view of the (key, value) pairs of the dictionary:\n",
    "my_dict = {'nums': [1, 2, 3],\n",
    "          'abc': ['a', 'b', 'c']\n",
    "          }\n",
    "print(my_dict.items())\n",
    "keys()\n",
    "Return a view of the dictionary’s keys:\n",
    "my_dict = {'nums': [1, 2, 3],\n",
    "          'abc': ['a', 'b', 'c']\n",
    "          }\n",
    "print(my_dict.keys())\n",
    "values()\n",
    "Return a view of the dictionary’s values:\n",
    "my_dict = {'nums': [1, 2, 3],\n",
    "          'abc': ['a', 'b', 'c']\n",
    "          }\n",
    "print(my_dict.values())\n",
    "Note that the objects returned by these methods are view objects. They provide a dynamic view of the dictionary’s entries, which means that, when the dictionary changes, the view reflects these changes. Dictionary views can be iterated over to yield their respective data. They also support membership tests.\n",
    "\n",
    "Additional resources\n",
    "For more information about dictionaries, refer to the Python dictionary documentation.\n",
    "For more dictionary methods, refer to the Python mapping types documentation.\n",
    "For more information about view objects, refer to the Python dictionary view objects documentation.Reference guide: Dictionaries\n",
    "\n",
    "By now you’ve encountered dictionaries and are discovering their power and utility as a data structure in Python. You’ve also learned that dictionaries provide a way to store and retrieve data using key-value pairs. Data professionals use dictionaries for many tasks, so it’s important to be familiar with how they work. This reading is a reference guide about dictionaries. It’s designed to help you in your Python learning journey.\n",
    "Create a dictionary\n",
    "There are two main ways to create dictionaries in Python:\n",
    "Braces: {}\n",
    "The dict function: dict()\n",
    "When instantiating a list using braces, separate each element with a colon. For example, the following code creates a dictionary containing continents as keys and their smallest countries as values:\n",
    "smallest_countries = {'Africa': 'Seychelles',\n",
    "                     'Asia': 'Maldives',\n",
    "                     'Europe': 'Vatican City',\n",
    "                     'Oceania': 'Nauru',\n",
    "                     'North America': 'St. Kitts and Nevis',\n",
    "                     'South America': 'Suriname'\n",
    "                     }\n",
    "\n",
    "To create an empty dictionary, use empty braces or the dict() function:\n",
    "empty_dict_1 = {}\n",
    "empty_dict_2 = dict()\n",
    "\n",
    "The dict() function uses a different syntax, where keys are entered as the function’s keyword arguments and values are assigned with an equals operator:\n",
    "smallest_countries = dict(africa='Seychelles',\n",
    "                         asia='Maldives',\n",
    "                         europe='Vatican City',\n",
    "                         oceania='Nauru',\n",
    "                         north_america='St. Kitts and Nevis',\n",
    "                         south_america ='Suriname'\n",
    ")\n",
    "\n",
    "Notice that, because the keywords cannot be entered as strings, they cannot contain whitespaces.\n",
    "\n",
    "Some important notes about keys and values:\n",
    "Dictionary keys: Can be of any immutable data type, such as strings, numbers, or tuples\n",
    "Dictionary values: Can be of any data type—mutable or immutable—including other dictionaries or objects\n",
    "Each key can only correspond to a single value; so, for example, this will throw an error:\n",
    "invalid_dict = {'numbers': 1, 2, 3}\n",
    "\n",
    "But if you enclose multiple values within another single data structure, you can create a valid dictionary. For example:\n",
    "valid_dict = {'numbers': [1, 2, 3]}\n",
    "\n",
    "Work with dictionaries\n",
    "Access values\n",
    "To access a specific value in a dictionary, you must refer to its key using brackets:\n",
    "my_dict = {'nums': [1, 2, 3],\n",
    "          'abc': ['a', 'b', 'c']\n",
    "          }\n",
    "print(my_dict['abc'])\n",
    "\n",
    "To access all values in a dictionary, use the values() method:\n",
    "my_dict = {'nums': [1, 2, 3],\n",
    "          'abc': ['a', 'b', 'c']\n",
    "          }\n",
    "print(my_dict.values())\n",
    "\n",
    "Assign new keys\n",
    "Dictionaries are mutable data structures in Python. You can add to and modify existing dictionaries. To add a new key to a dictionary, use brackets:\n",
    "my_dict = {'nums': [1, 2, 3],\n",
    "          'abc': ['a', 'b', 'c']\n",
    "          }\n",
    "\n",
    "\n",
    "# Add a new 'floats' key\n",
    "my_dict['floats'] = [1.0, 2.0, 3.0]\n",
    "print(my_dict)\n",
    "\n",
    "Check if a key exists in a dictionary\n",
    "To check if a key exists in a dictionary, use the in keyword:\n",
    "smallest_countries = {'Africa': 'Seychelles',\n",
    "                     'Asia': 'Maldives',\n",
    "                     'Europe': 'Vatican City',\n",
    "                     'Oceania': 'Nauru',\n",
    "                     'North America': 'St. Kitts and Nevis',\n",
    "                     'South America': 'Suriname'\n",
    "                     }\n",
    "\n",
    "\n",
    "print('Antarctica' in smallest_countries)\n",
    "print('Asia' not in smallest_countries)\n",
    "Delete a key-value pair\n",
    "To delete a key-value pair from a dictionary, use the del keyword:\n",
    "my_dict = {'nums': [1, 2, 3],\n",
    "          'abc': ['a', 'b', 'c']\n",
    "          }\n",
    "del my_dict['abc']\n",
    "print(my_dict)\n",
    "\n",
    "Dictionary methods\n",
    "Dictionaries are a core Python class. As you’ve learned, classes package data with tools to work with it. Methods are functions that belong to a class. Dictionaries have a number of built-in methods that are very useful. Some of the most commonly used methods include:\n",
    "items()\n",
    "Return a view of the (key, value) pairs of the dictionary:\n",
    "my_dict = {'nums': [1, 2, 3],\n",
    "          'abc': ['a', 'b', 'c']\n",
    "          }\n",
    "print(my_dict.items())\n",
    "keys()\n",
    "Return a view of the dictionary’s keys:\n",
    "my_dict = {'nums': [1, 2, 3],\n",
    "          'abc': ['a', 'b', 'c']\n",
    "          }\n",
    "print(my_dict.keys())\n",
    "values()\n",
    "Return a view of the dictionary’s values:\n",
    "my_dict = {'nums': [1, 2, 3],\n",
    "          'abc': ['a', 'b', 'c']\n",
    "          }\n",
    "print(my_dict.values())\n",
    "Note that the objects returned by these methods are view objects. They provide a dynamic view of the dictionary’s entries, which means that, when the dictionary changes, the view reflects these changes. Dictionary views can be iterated over to yield their respective data. They also support membership tests.\n",
    "\n",
    "Additional resources\n",
    "For more information about dictionaries, refer to the Python dictionary documentation.\n",
    "For more dictionary methods, refer to the Python mapping types documentation.\n",
    "For more information about view objects, refer to the Python dictionary view objects documentation."
   ],
   "id": "2a3a1fe919e5b216"
  },
  {
   "cell_type": "code",
   "execution_count": null,
   "id": "initial_id",
   "metadata": {
    "collapsed": true
   },
   "outputs": [],
   "source": [
    ""
   ]
  }
 ],
 "metadata": {
  "kernelspec": {
   "display_name": "Python 3",
   "language": "python",
   "name": "python3"
  },
  "language_info": {
   "codemirror_mode": {
    "name": "ipython",
    "version": 2
   },
   "file_extension": ".py",
   "mimetype": "text/x-python",
   "name": "python",
   "nbconvert_exporter": "python",
   "pygments_lexer": "ipython2",
   "version": "2.7.6"
  }
 },
 "nbformat": 4,
 "nbformat_minor": 5
}
